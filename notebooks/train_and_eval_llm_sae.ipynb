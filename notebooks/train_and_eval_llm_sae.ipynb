{
 "cells": [
  {
   "cell_type": "markdown",
   "id": "8626c376",
   "metadata": {},
   "source": [
    "# Training and evaluating a SAE on Gemma-2-2B\n",
    "\n",
    "You probably don't want to do this sort of training in a notebook, but the processes is demonstrated here regardless. We'll train a single SAE with 32k latents and L0=100 on Gemma-2-2b layer 12 using 500M tokens from the Pile. In the paper, we train a suite of SAEs with different L0s. We won't attempt to do that here, as really you should run that sort of sweep on a cluster, but the process is the same (except for changing L0 for each run)."
   ]
  },
  {
   "cell_type": "code",
   "execution_count": null,
   "id": "5b3a5e7c",
   "metadata": {},
   "outputs": [],
   "source": [
    "from sparse_but_wrong.enchanced_batch_topk_sae import (\n",
    "    EnhancedBatchTopKTrainingSAEConfig,\n",
    ")\n",
    "\n",
    "from sae_lens import LanguageModelSAETrainingRunner, LanguageModelSAERunnerConfig\n",
    "\n",
    "\n",
    "runner_cfg = LanguageModelSAERunnerConfig(\n",
    "    sae=EnhancedBatchTopKTrainingSAEConfig(\n",
    "        k=100,\n",
    "        d_in=1024,\n",
    "        d_sae=32 * 1024,\n",
    "        normalize_acts_by_decoder_norm=True,\n",
    "    ),\n",
    "    model_name=\"google/gemma-2-2b\",\n",
    "    model_class_name=\"AutoModelForCausalLM\",\n",
    "    hook_name=f\"model.layers.12\",\n",
    "    context_size=1024,\n",
    "    training_tokens=500_000_000,\n",
    "    device=\"cuda\",\n",
    "    lr=3e-4,\n",
    "    n_batches_in_buffer=64,\n",
    "    train_batch_size_tokens=4096,\n",
    "    store_batch_size_prompts=12,\n",
    "    eval_batch_size_prompts=6,\n",
    "    autocast_lm=True,\n",
    "    autocast=True,\n",
    "    n_checkpoints=2,\n",
    ")\n",
    "\n",
    "runner = LanguageModelSAETrainingRunner(runner_cfg)\n",
    "\n",
    "sae = runner.run()\n",
    "sae.save_inference_model(\"l0_100_sae\")"
   ]
  },
  {
   "cell_type": "markdown",
   "id": "87f1eadb",
   "metadata": {},
   "source": [
    "Now that we've trained the SAE, let's evaluate it using the SAE Probes benchmark, and calculate nth decoder projection."
   ]
  },
  {
   "cell_type": "code",
   "execution_count": null,
   "id": "31a8668e",
   "metadata": {},
   "outputs": [],
   "source": [
    "from sae_probes import run_sae_evals\n",
    "\n",
    "run_sae_evals(\n",
    "    sae=sae,\n",
    "    model_name=\"gemma-2-2b\",\n",
    "    hook_name=\"blocks.12.hook_resid_post\",\n",
    "    reg_type=\"l1\",\n",
    "    setting=\"normal\",\n",
    "    ks=[1, 16],\n",
    "    results_path=\"l0_100_sae_probes_results\",\n",
    ")"
   ]
  }
 ],
 "metadata": {
  "kernelspec": {
   "display_name": ".venv",
   "language": "python",
   "name": "python3"
  },
  "language_info": {
   "codemirror_mode": {
    "name": "ipython",
    "version": 3
   },
   "file_extension": ".py",
   "mimetype": "text/x-python",
   "name": "python",
   "nbconvert_exporter": "python",
   "pygments_lexer": "ipython3",
   "version": "3.11.4"
  }
 },
 "nbformat": 4,
 "nbformat_minor": 5
}
